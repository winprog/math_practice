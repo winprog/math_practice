{
 "cells": [
  {
   "cell_type": "code",
   "execution_count": 4,
   "metadata": {},
   "outputs": [
    {
     "name": "stdout",
     "output_type": "stream",
     "text": [
      "start recording.\n",
      "read 35280 bytes.\n",
      "read 35280 bytes.\n",
      "read 35280 bytes.\n",
      "read 35280 bytes.\n",
      "read 35280 bytes.\n",
      "read 35280 bytes.\n",
      "read 35280 bytes.\n",
      "read 35280 bytes.\n",
      "read 35280 bytes.\n",
      "read 35280 bytes.\n",
      "read 35280 bytes.\n",
      "read 35280 bytes.\n",
      "read 35280 bytes.\n",
      "read 35280 bytes.\n",
      "read 35280 bytes.\n",
      "read 35280 bytes.\n",
      "read 35280 bytes.\n",
      "read 35280 bytes.\n",
      "read 35280 bytes.\n",
      "read 35280 bytes.\n",
      "read 35280 bytes.\n",
      "read 35280 bytes.\n",
      "read 35280 bytes.\n",
      "read 35280 bytes.\n",
      "read 35280 bytes.\n",
      "data record frames: 25, bytes: 882000.\n",
      "stop recording.\n",
      "audio file: /Users/renxuelei/code/python/math_practice/audio/record.wav.\n",
      "audio file: /Users/renxuelei/code/python/math_practice/audio/record.wav ok.\n"
     ]
    }
   ],
   "source": [
    "import pyaudio\n",
    "import wave\n",
    "import sys\n",
    "import os\n",
    "\n",
    "\n",
    "FORMAT = pyaudio.paInt16\n",
    "CHANNELS = 2\n",
    "RATE = 44100\n",
    "CHUNK = RATE * CHANNELS // 10\n",
    "RECORD_SECONDS = 5\n",
    "\n",
    "def log(msg):\n",
    "    print(msg)\n",
    "\n",
    "# recording\n",
    "p = pyaudio.PyAudio()\n",
    "stream = p.open(format=FORMAT, channels=CHANNELS, rate=RATE, input=True, frames_per_buffer=CHUNK)\n",
    "log(\"start recording.\")\n",
    "\n",
    "frames = []\n",
    "total = 0\n",
    "for i in range(0, int(RATE/CHUNK*RECORD_SECONDS)):\n",
    "    data = stream.read(CHUNK)\n",
    "    count = len(data)\n",
    "    total += count\n",
    "    frames.append(data)\n",
    "    log(f\"read {len(data)} bytes.\")\n",
    "\n",
    "log(f\"data record frames: {len(frames)}, bytes: {total}.\")\n",
    "stream.stop_stream()\n",
    "p.terminate()\n",
    "log(\"stop recording.\")\n",
    "\n",
    "# save to file.\n",
    "wav_filename = f\"{os.path.abspath('.')}/record.wav\"\n",
    "log(f\"audio file: {wav_filename}.\")\n",
    "\n",
    "wf = wave.open(wav_filename, 'wb')\n",
    "wf.setnchannels(CHANNELS)\n",
    "wf.setsampwidth(p.get_sample_size(FORMAT))\n",
    "wf.setframerate(RATE)\n",
    "wf.writeframes(b''.join(frames))\n",
    "wf.close()\n",
    "\n",
    "log(f\"audio file: {wav_filename} ok.\")\n"
   ]
  },
  {
   "cell_type": "code",
   "execution_count": null,
   "metadata": {
    "collapsed": true
   },
   "outputs": [],
   "source": []
  },
  {
   "cell_type": "code",
   "execution_count": null,
   "metadata": {
    "collapsed": true
   },
   "outputs": [],
   "source": []
  }
 ],
 "metadata": {
  "kernelspec": {
   "display_name": "Python 3",
   "language": "python",
   "name": "python3"
  },
  "language_info": {
   "codemirror_mode": {
    "name": "ipython",
    "version": 3
   },
   "file_extension": ".py",
   "mimetype": "text/x-python",
   "name": "python",
   "nbconvert_exporter": "python",
   "pygments_lexer": "ipython3",
   "version": "3.6.5"
  }
 },
 "nbformat": 4,
 "nbformat_minor": 2
}
