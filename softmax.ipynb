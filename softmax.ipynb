{
 "cells": [
  {
   "cell_type": "code",
   "execution_count": 5,
   "metadata": {},
   "outputs": [
    {
     "name": "stdout",
     "output_type": "stream",
     "text": [
      "[2.72, 7.39, 20.09, 54.6, 2.72, 7.39, 20.09]\n",
      "114.98\n",
      "[0.024, 0.064, 0.175, 0.475, 0.024, 0.064, 0.175] 1.0010000000000001\n"
     ]
    }
   ],
   "source": [
    "import math\n",
    "z = [1.0, 2.0, 3.0, 4.0, 1.0, 2.0, 3.0]\n",
    "z_exp = [math.exp(i) for i in z]\n",
    "print([round(i ,2) for i in z_exp])\n",
    "sum_z_exp = sum(z_exp)\n",
    "print(round(sum_z_exp, 2))\n",
    "softmax = [round(i / sum_z_exp, 3) for i in z_exp]\n",
    "print(softmax, sum(softmax))"
   ]
  },
  {
   "cell_type": "code",
   "execution_count": 6,
   "metadata": {},
   "outputs": [
    {
     "name": "stdout",
     "output_type": "stream",
     "text": [
      "[1.11, 1.22, 1.35, 1.49, 1.11, 1.22, 1.35]\n",
      "8.84\n",
      "[0.125, 0.138, 0.153, 0.169, 0.125, 0.138, 0.153] 1.0010000000000001\n"
     ]
    }
   ],
   "source": [
    "import math\n",
    "z = [0.1, 0.2, 0.3, 0.4, 0.1, 0.2, 0.3]\n",
    "z_exp = [math.exp(i) for i in z]\n",
    "print([round(i ,2) for i in z_exp])\n",
    "sum_z_exp = sum(z_exp)\n",
    "print(round(sum_z_exp, 2))\n",
    "softmax = [round(i / sum_z_exp, 3) for i in z_exp]\n",
    "print(softmax, sum(softmax))"
   ]
  },
  {
   "cell_type": "code",
   "execution_count": null,
   "metadata": {
    "collapsed": true
   },
   "outputs": [],
   "source": []
  }
 ],
 "metadata": {
  "kernelspec": {
   "display_name": "Python 3",
   "language": "python",
   "name": "python3"
  },
  "language_info": {
   "codemirror_mode": {
    "name": "ipython",
    "version": 3
   },
   "file_extension": ".py",
   "mimetype": "text/x-python",
   "name": "python",
   "nbconvert_exporter": "python",
   "pygments_lexer": "ipython3",
   "version": "3.6.4"
  }
 },
 "nbformat": 4,
 "nbformat_minor": 2
}
